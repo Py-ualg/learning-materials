{
 "cells": [
  {
   "cell_type": "markdown",
   "id": "76956711-5be7-4df4-a937-e5df3aefb7c5",
   "metadata": {},
   "source": [
    "# Matplotlib basics\n",
    "* single plots\n",
    "* descriptions\n",
    "* subplots\n",
    "* axes"
   ]
  },
  {
   "cell_type": "code",
   "execution_count": 2,
   "id": "2c741018-52e5-4c05-8ea9-de81e6bd8325",
   "metadata": {},
   "outputs": [],
   "source": [
    "import matplotlib.pyplot as plt\n",
    "import numpy as np"
   ]
  },
  {
   "cell_type": "markdown",
   "id": "610b7afa-d698-40c0-bb1e-a718a620b848",
   "metadata": {},
   "source": [
    "### Make nice plots of even more famous titanic dataset"
   ]
  },
  {
   "cell_type": "code",
   "execution_count": null,
   "id": "919cac0e-e04a-4757-b390-3579963313e9",
   "metadata": {},
   "outputs": [],
   "source": [
    "import seaborn as sns\n",
    "\n",
    "# Load Titanic dataset\n",
    "titanic = sns.load_dataset('titanic')\n",
    "titanic.head()"
   ]
  }
 ],
 "metadata": {
  "kernelspec": {
   "display_name": "pyualg",
   "language": "python",
   "name": "pyualg"
  },
  "language_info": {
   "codemirror_mode": {
    "name": "ipython",
    "version": 3
   },
   "file_extension": ".py",
   "mimetype": "text/x-python",
   "name": "python",
   "nbconvert_exporter": "python",
   "pygments_lexer": "ipython3",
   "version": "3.11.5"
  }
 },
 "nbformat": 4,
 "nbformat_minor": 5
}
