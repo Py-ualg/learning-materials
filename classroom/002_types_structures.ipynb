{
 "cells": [
  {
   "cell_type": "markdown",
   "id": "85730c10-770d-4b57-aec6-6767df258e1c",
   "metadata": {},
   "source": [
    "# Code snippets 2: 23/12/15\n",
    "* 1.Data types, 2. Data structures, 3. More DS"
   ]
  },
  {
   "cell_type": "markdown",
   "id": "b461b252-a9aa-4d69-b778-f24e1b8a0b1b",
   "metadata": {},
   "source": [
    "## 1. Data types\n",
    "### numerical"
   ]
  },
  {
   "cell_type": "code",
   "execution_count": 6,
   "id": "1f284331-bcba-4ea4-8818-851a0354559f",
   "metadata": {},
   "outputs": [
    {
     "data": {
      "text/plain": [
       "float"
      ]
     },
     "execution_count": 6,
     "metadata": {},
     "output_type": "execute_result"
    }
   ],
   "source": [
    "type(8.0)"
   ]
  },
  {
   "cell_type": "code",
   "execution_count": 3,
   "id": "b3dd15bf-580b-41b5-b205-c29740b776ec",
   "metadata": {},
   "outputs": [
    {
     "data": {
      "text/plain": [
       "complex"
      ]
     },
     "execution_count": 3,
     "metadata": {},
     "output_type": "execute_result"
    }
   ],
   "source": [
    "type(0+1j)"
   ]
  },
  {
   "cell_type": "code",
   "execution_count": 4,
   "id": "b0bb9104-5ad9-4553-896f-e714db260632",
   "metadata": {},
   "outputs": [
    {
     "data": {
      "text/plain": [
       "(2+0j)"
      ]
     },
     "execution_count": 4,
     "metadata": {},
     "output_type": "execute_result"
    }
   ],
   "source": [
    "complex(2)"
   ]
  },
  {
   "cell_type": "code",
   "execution_count": 5,
   "id": "5c81250f-42e2-4fb6-b0bd-1d2c0eca2d94",
   "metadata": {},
   "outputs": [
    {
     "data": {
      "text/plain": [
       "(8.0, 8)"
      ]
     },
     "execution_count": 5,
     "metadata": {},
     "output_type": "execute_result"
    }
   ],
   "source": [
    "float(8), int(8)"
   ]
  },
  {
   "cell_type": "markdown",
   "id": "9c53a5aa-9182-4cbd-aa64-52b0325b2e8f",
   "metadata": {},
   "source": [
    "* boolean"
   ]
  },
  {
   "cell_type": "code",
   "execution_count": 7,
   "id": "36111c97-5d2c-4684-9995-d0638ff07627",
   "metadata": {},
   "outputs": [
    {
     "data": {
      "text/plain": [
       "(bool, bool)"
      ]
     },
     "execution_count": 7,
     "metadata": {},
     "output_type": "execute_result"
    }
   ],
   "source": [
    "type(True), type(False)"
   ]
  },
  {
   "cell_type": "code",
   "execution_count": 8,
   "id": "a0d0342c-b308-4c1a-b70b-8666b4a94422",
   "metadata": {},
   "outputs": [
    {
     "data": {
      "text/plain": [
       "2"
      ]
     },
     "execution_count": 8,
     "metadata": {},
     "output_type": "execute_result"
    }
   ],
   "source": [
    "# not recomended to use, convert always to integers using int()\n",
    "2*True + 100*False"
   ]
  },
  {
   "cell_type": "markdown",
   "id": "2cef2ae8-55c1-411e-833a-32a721257a15",
   "metadata": {},
   "source": [
    "### Sequeces\n",
    "* list, tuple, (range() is in section 2)\n",
    "* list: mutable, iterable, ordered\n",
    "* tuple: immutable, iterable, ordered"
   ]
  },
  {
   "cell_type": "code",
   "execution_count": 9,
   "id": "ef6820a5-4893-4e65-8d37-b95dacd8eb28",
   "metadata": {},
   "outputs": [
    {
     "name": "stdout",
     "output_type": "stream",
     "text": [
      "['apple', 2, 5.0]\n"
     ]
    }
   ],
   "source": [
    "lst = [1, 2, 5.0]\n",
    "lst[0] = 'apple'\n",
    "print(lst)"
   ]
  },
  {
   "cell_type": "code",
   "execution_count": 10,
   "id": "f769a650-5ae9-4ff9-bcee-c55ba5be5fb0",
   "metadata": {},
   "outputs": [
    {
     "ename": "TypeError",
     "evalue": "'tuple' object does not support item assignment",
     "output_type": "error",
     "traceback": [
      "\u001b[1;31m---------------------------------------------------------------------------\u001b[0m",
      "\u001b[1;31mTypeError\u001b[0m                                 Traceback (most recent call last)",
      "Cell \u001b[1;32mIn[10], line 2\u001b[0m\n\u001b[0;32m      1\u001b[0m tup \u001b[38;5;241m=\u001b[39m (\u001b[38;5;241m1\u001b[39m, \u001b[38;5;241m2\u001b[39m, \u001b[38;5;241m5.0\u001b[39m)\n\u001b[1;32m----> 2\u001b[0m \u001b[43mtup\u001b[49m\u001b[43m[\u001b[49m\u001b[38;5;241;43m0\u001b[39;49m\u001b[43m]\u001b[49m \u001b[38;5;241m=\u001b[39m \u001b[38;5;124m'\u001b[39m\u001b[38;5;124mapple\u001b[39m\u001b[38;5;124m'\u001b[39m\n\u001b[0;32m      3\u001b[0m \u001b[38;5;28mprint\u001b[39m(tup)\n",
      "\u001b[1;31mTypeError\u001b[0m: 'tuple' object does not support item assignment"
     ]
    }
   ],
   "source": [
    "tup = (1, 2, 5.0)\n",
    "tup[0] = 'apple'\n",
    "print(tup)"
   ]
  },
  {
   "cell_type": "markdown",
   "id": "2188db55-8e3d-496d-8b08-616aacc12b89",
   "metadata": {},
   "source": [
    "### Mapping\n",
    "* dictionary: unordred, mutable, iterable"
   ]
  },
  {
   "cell_type": "code",
   "execution_count": 11,
   "id": "e14e1bbd-4ea8-4e63-993b-44154b40383c",
   "metadata": {},
   "outputs": [],
   "source": [
    "d = {'apple': 10, 'banana':2}"
   ]
  },
  {
   "cell_type": "code",
   "execution_count": 12,
   "id": "2f2f90ba-6293-403a-9dcb-37b303398cf5",
   "metadata": {},
   "outputs": [
    {
     "data": {
      "text/plain": [
       "10"
      ]
     },
     "execution_count": 12,
     "metadata": {},
     "output_type": "execute_result"
    }
   ],
   "source": [
    "d['apple']"
   ]
  },
  {
   "cell_type": "code",
   "execution_count": 13,
   "id": "95ba234b-1e94-4ab7-afac-7a7c80bb70da",
   "metadata": {},
   "outputs": [
    {
     "ename": "KeyError",
     "evalue": "0",
     "output_type": "error",
     "traceback": [
      "\u001b[1;31m---------------------------------------------------------------------------\u001b[0m",
      "\u001b[1;31mKeyError\u001b[0m                                  Traceback (most recent call last)",
      "Cell \u001b[1;32mIn[13], line 1\u001b[0m\n\u001b[1;32m----> 1\u001b[0m \u001b[43md\u001b[49m\u001b[43m[\u001b[49m\u001b[38;5;241;43m0\u001b[39;49m\u001b[43m]\u001b[49m\n",
      "\u001b[1;31mKeyError\u001b[0m: 0"
     ]
    }
   ],
   "source": [
    "d[0]"
   ]
  },
  {
   "cell_type": "code",
   "execution_count": 14,
   "id": "d7b3d2b7-ec6e-4b38-9e60-ec017cf4895e",
   "metadata": {},
   "outputs": [],
   "source": [
    "d[0] = 50"
   ]
  },
  {
   "cell_type": "code",
   "execution_count": 15,
   "id": "2d81e461-23a8-4607-9937-cbbd074e947b",
   "metadata": {},
   "outputs": [
    {
     "data": {
      "text/plain": [
       "{'apple': 10, 'banana': 2, 0: 50}"
      ]
     },
     "execution_count": 15,
     "metadata": {},
     "output_type": "execute_result"
    }
   ],
   "source": [
    "d"
   ]
  },
  {
   "cell_type": "code",
   "execution_count": 16,
   "id": "07790168-4864-4d20-a71c-a55684883b14",
   "metadata": {},
   "outputs": [
    {
     "data": {
      "text/plain": [
       "50"
      ]
     },
     "execution_count": 16,
     "metadata": {},
     "output_type": "execute_result"
    }
   ],
   "source": [
    "d[0]"
   ]
  },
  {
   "cell_type": "markdown",
   "id": "3027c9ce-254e-4fc1-8acb-ee1f5033a55f",
   "metadata": {},
   "source": [
    "## Sets\n",
    "mutable, unordered, iterable"
   ]
  },
  {
   "cell_type": "code",
   "execution_count": 17,
   "id": "90bbc86e-e1f9-4964-bb1c-f1c7bfa2ec8a",
   "metadata": {},
   "outputs": [],
   "source": [
    "s = {1, 2, 3}"
   ]
  },
  {
   "cell_type": "code",
   "execution_count": 18,
   "id": "90837dfb-28e7-46c3-80e8-1ec747b504f6",
   "metadata": {},
   "outputs": [
    {
     "data": {
      "text/plain": [
       "set"
      ]
     },
     "execution_count": 18,
     "metadata": {},
     "output_type": "execute_result"
    }
   ],
   "source": [
    "type(s)"
   ]
  },
  {
   "cell_type": "code",
   "execution_count": 22,
   "id": "48bb5f52-e648-425d-9619-8a9e32964b2e",
   "metadata": {},
   "outputs": [
    {
     "data": {
      "text/plain": [
       "dict"
      ]
     },
     "execution_count": 22,
     "metadata": {},
     "output_type": "execute_result"
    }
   ],
   "source": [
    "s = {}\n",
    "s = dict()\n",
    "type(s)"
   ]
  },
  {
   "cell_type": "code",
   "execution_count": 21,
   "id": "6c830a1f-8855-4b70-8069-eee5d3f378d5",
   "metadata": {},
   "outputs": [],
   "source": [
    "s = set()"
   ]
  },
  {
   "cell_type": "code",
   "execution_count": 23,
   "id": "b8c1bb32-6aa3-4d28-a61f-1e399423d560",
   "metadata": {},
   "outputs": [
    {
     "data": {
      "text/plain": [
       "11"
      ]
     },
     "execution_count": 23,
     "metadata": {},
     "output_type": "execute_result"
    }
   ],
   "source": [
    "# remove duplicates\n",
    "lst = [0, 1, 1, 2, 2, 2, 5, 7, 2 ,45,4]\n",
    "len(lst)"
   ]
  },
  {
   "cell_type": "code",
   "execution_count": 24,
   "id": "2ec03626-37ad-4c42-9461-5237bc18b376",
   "metadata": {},
   "outputs": [
    {
     "data": {
      "text/plain": [
       "{0, 1, 2, 4, 5, 7, 45}"
      ]
     },
     "execution_count": 24,
     "metadata": {},
     "output_type": "execute_result"
    }
   ],
   "source": [
    "s = set(lst)\n",
    "s"
   ]
  },
  {
   "cell_type": "markdown",
   "id": "dc023872-0bce-4f22-8a97-c1c75538117c",
   "metadata": {},
   "source": [
    "## 2. Iteration over sequences"
   ]
  },
  {
   "cell_type": "code",
   "execution_count": 25,
   "id": "4f5bd0a7-1fa3-4676-840c-2cbd4170b433",
   "metadata": {},
   "outputs": [
    {
     "name": "stdout",
     "output_type": "stream",
     "text": [
      "0\n",
      "1\n",
      "1\n",
      "2\n",
      "#############\n",
      "0\n",
      "1\n",
      "1\n",
      "2\n",
      "#############\n",
      "0\n",
      "1\n",
      "1\n",
      "2\n",
      "#############\n",
      "0\n",
      "1\n",
      "1\n",
      "2\n",
      "#############\n"
     ]
    }
   ],
   "source": [
    "lst = [0, 1, 1, 2]\n",
    "for i in lst:\n",
    "    print(i)\n",
    "print('#############')\n",
    "\n",
    "for i in range(len(lst)):\n",
    "    print(lst[i])\n",
    "print('#############')\n",
    "\n",
    "for i, item in enumerate(lst):\n",
    "    print(item)\n",
    "print('#############')\n",
    "\n",
    "i = 0\n",
    "while i < len(lst):\n",
    "    print(lst[i])\n",
    "    i += 1\n",
    "print('#############')"
   ]
  },
  {
   "cell_type": "code",
   "execution_count": 27,
   "id": "20fa0750-a31f-4131-ab2f-674d88d70492",
   "metadata": {},
   "outputs": [
    {
     "data": {
      "text/plain": [
       "[0, 1, 2, 3, 4, 5, 6, 7, 8, 9]"
      ]
     },
     "execution_count": 27,
     "metadata": {},
     "output_type": "execute_result"
    }
   ],
   "source": [
    "list(range(10))"
   ]
  },
  {
   "cell_type": "markdown",
   "id": "8634353b-5ce0-4d38-ba80-0c3887622fcf",
   "metadata": {},
   "source": [
    "### iterate over dictionary"
   ]
  },
  {
   "cell_type": "code",
   "execution_count": 28,
   "id": "74cff50d-6ac8-48e3-87fe-70cfab179764",
   "metadata": {},
   "outputs": [],
   "source": [
    "d = {'apple': 10, 'banana':2}"
   ]
  },
  {
   "cell_type": "code",
   "execution_count": 29,
   "id": "d911c3d2-9a15-4c18-9686-1832f8feb3bd",
   "metadata": {},
   "outputs": [
    {
     "data": {
      "text/plain": [
       "dict_items([('apple', 10), ('banana', 2)])"
      ]
     },
     "execution_count": 29,
     "metadata": {},
     "output_type": "execute_result"
    }
   ],
   "source": [
    "d.items()"
   ]
  },
  {
   "cell_type": "code",
   "execution_count": 30,
   "id": "51a3c9c0-e9bf-4753-8cd2-69f9284424ef",
   "metadata": {},
   "outputs": [
    {
     "data": {
      "text/plain": [
       "dict_keys(['apple', 'banana'])"
      ]
     },
     "execution_count": 30,
     "metadata": {},
     "output_type": "execute_result"
    }
   ],
   "source": [
    "d.keys()"
   ]
  },
  {
   "cell_type": "code",
   "execution_count": 31,
   "id": "8274e868-42c6-480c-abd0-758b8ded9646",
   "metadata": {},
   "outputs": [
    {
     "data": {
      "text/plain": [
       "dict_values([10, 2])"
      ]
     },
     "execution_count": 31,
     "metadata": {},
     "output_type": "execute_result"
    }
   ],
   "source": [
    "d.values()"
   ]
  },
  {
   "cell_type": "code",
   "execution_count": 36,
   "id": "db3ee565-a777-4085-bc25-b1af05311ff6",
   "metadata": {},
   "outputs": [
    {
     "data": {
      "text/plain": [
       "(('apple', 10), ('banana', 2))"
      ]
     },
     "execution_count": 36,
     "metadata": {},
     "output_type": "execute_result"
    }
   ],
   "source": [
    "k, v = d.items()\n",
    "k, v"
   ]
  },
  {
   "cell_type": "code",
   "execution_count": 35,
   "id": "e8af9e9b-5e55-49dd-af0c-5c306ce82176",
   "metadata": {},
   "outputs": [
    {
     "data": {
      "text/plain": [
       "2"
      ]
     },
     "execution_count": 35,
     "metadata": {},
     "output_type": "execute_result"
    }
   ],
   "source": [
    "v"
   ]
  },
  {
   "cell_type": "code",
   "execution_count": 37,
   "id": "02268eef-c306-4e5a-9778-cd3b6c630085",
   "metadata": {},
   "outputs": [
    {
     "name": "stdout",
     "output_type": "stream",
     "text": [
      "('apple', 10)\n",
      "('banana', 2)\n"
     ]
    }
   ],
   "source": [
    "for item in d.items():\n",
    "    print(item)"
   ]
  },
  {
   "cell_type": "code",
   "execution_count": 39,
   "id": "6f2decb3-8990-4933-972c-c02f46d6cc76",
   "metadata": {},
   "outputs": [
    {
     "name": "stdout",
     "output_type": "stream",
     "text": [
      "apple 10\n",
      "banana 2\n"
     ]
    }
   ],
   "source": [
    "for k, v in d.items():\n",
    "    print(k, v)"
   ]
  },
  {
   "cell_type": "code",
   "execution_count": 40,
   "id": "0bc339b0-a6fb-499b-8d49-311d9a0686ed",
   "metadata": {},
   "outputs": [
    {
     "name": "stdout",
     "output_type": "stream",
     "text": [
      "10\n",
      "2\n"
     ]
    }
   ],
   "source": [
    "for k, v in d.items():\n",
    "    print(v)"
   ]
  },
  {
   "cell_type": "code",
   "execution_count": 41,
   "id": "4a19c2d9-9606-45d2-a94d-0b2cfb31b53d",
   "metadata": {},
   "outputs": [
    {
     "ename": "ValueError",
     "evalue": "too many values to unpack (expected 2)",
     "output_type": "error",
     "traceback": [
      "\u001b[1;31m---------------------------------------------------------------------------\u001b[0m",
      "\u001b[1;31mValueError\u001b[0m                                Traceback (most recent call last)",
      "Cell \u001b[1;32mIn[41], line 1\u001b[0m\n\u001b[1;32m----> 1\u001b[0m \u001b[38;5;28;01mfor\u001b[39;00m k, v \u001b[38;5;129;01min\u001b[39;00m d\u001b[38;5;241m.\u001b[39mkeys():\n\u001b[0;32m      2\u001b[0m     \u001b[38;5;28mprint\u001b[39m(k)\n",
      "\u001b[1;31mValueError\u001b[0m: too many values to unpack (expected 2)"
     ]
    }
   ],
   "source": [
    "for k, v in d.keys():\n",
    "    print(k)"
   ]
  },
  {
   "cell_type": "code",
   "execution_count": 42,
   "id": "8fa77cd0-e4d8-4118-9f62-70590e4648a4",
   "metadata": {},
   "outputs": [
    {
     "name": "stdout",
     "output_type": "stream",
     "text": [
      "apple\n",
      "banana\n"
     ]
    }
   ],
   "source": [
    "for k in d.keys():\n",
    "    print(k)"
   ]
  },
  {
   "cell_type": "code",
   "execution_count": 43,
   "id": "ece6fe6c-ff67-496c-b7b7-f5bc932df8b8",
   "metadata": {},
   "outputs": [
    {
     "name": "stdout",
     "output_type": "stream",
     "text": [
      "10\n",
      "2\n"
     ]
    }
   ],
   "source": [
    "for k in d.keys():\n",
    "    print(d[k])"
   ]
  },
  {
   "cell_type": "markdown",
   "id": "43f0e80b-fa72-45bb-bb2f-e548ba58e9f0",
   "metadata": {},
   "source": [
    "### 3. More advanced data types\n",
    "* frozenset, byte, bytearray\n",
    "* modules, functions, methods, classes are also types\n",
    "* collections: namedtuple, deque, ChainMap, Counter, OrderedDict, defaultDict, etc"
   ]
  },
  {
   "cell_type": "code",
   "execution_count": 47,
   "id": "a644b686-1860-43fc-82dc-8ae90358def7",
   "metadata": {},
   "outputs": [],
   "source": [
    "from collections import defaultdict"
   ]
  },
  {
   "cell_type": "code",
   "execution_count": null,
   "id": "25d19ade-8834-45a5-8be4-5a0db2588193",
   "metadata": {},
   "outputs": [],
   "source": []
  }
 ],
 "metadata": {
  "kernelspec": {
   "display_name": "pyualg",
   "language": "python",
   "name": "pyualg"
  },
  "language_info": {
   "codemirror_mode": {
    "name": "ipython",
    "version": 3
   },
   "file_extension": ".py",
   "mimetype": "text/x-python",
   "name": "python",
   "nbconvert_exporter": "python",
   "pygments_lexer": "ipython3",
   "version": "3.11.5"
  }
 },
 "nbformat": 4,
 "nbformat_minor": 5
}
