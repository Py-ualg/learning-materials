{
 "cells": [
  {
   "cell_type": "markdown",
   "id": "c59fc3a8-8293-42d7-a024-4fa4d118bd81",
   "metadata": {},
   "source": [
    "# Code snippets 3: 24/01/19\n",
    "* 1. Pandas, 2. pandas, 3. More pandas"
   ]
  },
  {
   "cell_type": "code",
   "execution_count": null,
   "id": "94ad8b95-defe-4241-b2f0-7b03a5f75c8d",
   "metadata": {},
   "outputs": [],
   "source": [
    "import pandas as pd"
   ]
  },
  {
   "cell_type": "code",
   "execution_count": null,
   "id": "6c813410-c813-4fa8-88ba-1541d51c56f5",
   "metadata": {},
   "outputs": [],
   "source": [
    "# from askpython.org\n",
    "url=\"https://raw.githubusercontent.com/Tanishqa-10/AskPython/main/Sampledata.csv\"\n",
    "\n",
    "df = pd.read_csv(url)  # write by pd.to_csv()\n",
    "print(df)"
   ]
  },
  {
   "cell_type": "code",
   "execution_count": null,
   "id": "3bd5cf45-5c29-49fb-9b33-860835fb1aec",
   "metadata": {},
   "outputs": [],
   "source": [
    "df"
   ]
  },
  {
   "cell_type": "code",
   "execution_count": null,
   "id": "1b2b605c-7fb0-4f76-afc8-32d22de1fe76",
   "metadata": {},
   "outputs": [],
   "source": [
    "df.head()  # df.head(4), df.tail()"
   ]
  },
  {
   "cell_type": "code",
   "execution_count": null,
   "id": "64c970b2-c75f-4fa7-ad25-c0dd8fa76463",
   "metadata": {},
   "outputs": [],
   "source": [
    "s = df['Name']\n",
    "s, type(s)"
   ]
  },
  {
   "cell_type": "code",
   "execution_count": null,
   "id": "9276c8b4-d532-4cc5-a6af-c8a8115c585f",
   "metadata": {},
   "outputs": [],
   "source": [
    "df.Name"
   ]
  },
  {
   "cell_type": "code",
   "execution_count": null,
   "id": "9885c9e1-6657-492b-872b-db1407a099fb",
   "metadata": {},
   "outputs": [],
   "source": [
    "s[1]"
   ]
  },
  {
   "cell_type": "code",
   "execution_count": null,
   "id": "4911b8e4-8200-4b3a-8672-c1735b194680",
   "metadata": {},
   "outputs": [],
   "source": [
    "list(s.values)"
   ]
  },
  {
   "cell_type": "code",
   "execution_count": null,
   "id": "44dec53a-6f46-4ad6-a7fd-53071f192957",
   "metadata": {},
   "outputs": [],
   "source": [
    "s.array[1]"
   ]
  },
  {
   "cell_type": "markdown",
   "id": "09e7918a-b824-4ea8-81c9-1d3ec7221a25",
   "metadata": {},
   "source": [
    "### Indexing"
   ]
  },
  {
   "cell_type": "code",
   "execution_count": null,
   "id": "474af70f-fa0b-4f58-b959-f4ac798828a0",
   "metadata": {},
   "outputs": [],
   "source": [
    "df.at[4, 'Name']"
   ]
  },
  {
   "cell_type": "code",
   "execution_count": null,
   "id": "a2e87cf3-77cf-4019-b35c-3e6d435ba7b6",
   "metadata": {},
   "outputs": [],
   "source": [
    "df.iat[4, 0]"
   ]
  },
  {
   "cell_type": "code",
   "execution_count": null,
   "id": "179743fe-1384-4fb3-8d76-8db5441577e3",
   "metadata": {},
   "outputs": [],
   "source": [
    "df.loc[4]"
   ]
  },
  {
   "cell_type": "code",
   "execution_count": null,
   "id": "97426d1d-3e1c-4b7d-ad24-5faa0208eb09",
   "metadata": {},
   "outputs": [],
   "source": [
    "df.iloc[4]"
   ]
  },
  {
   "cell_type": "code",
   "execution_count": null,
   "id": "5e44d5ca-ecb9-461f-9ce3-b7f78a696818",
   "metadata": {},
   "outputs": [],
   "source": [
    "df.iloc[4, 0]"
   ]
  },
  {
   "cell_type": "code",
   "execution_count": null,
   "id": "c0a43698-1641-4f22-bcc6-bb4b3d241889",
   "metadata": {},
   "outputs": [],
   "source": [
    "df.loc[4]"
   ]
  },
  {
   "cell_type": "code",
   "execution_count": null,
   "id": "af207b8f-f58c-4bf4-a751-465714958d95",
   "metadata": {},
   "outputs": [],
   "source": [
    "df.loc[4, 'Name']"
   ]
  },
  {
   "cell_type": "code",
   "execution_count": null,
   "id": "ef5c220f-c66e-427f-ad81-43912c42eba9",
   "metadata": {},
   "outputs": [],
   "source": [
    "df.index, list(df.index)"
   ]
  },
  {
   "cell_type": "code",
   "execution_count": null,
   "id": "42fc9ff1-d9c8-48e4-855d-45c1f296d3dc",
   "metadata": {},
   "outputs": [],
   "source": [
    "df.shape"
   ]
  },
  {
   "cell_type": "code",
   "execution_count": null,
   "id": "cbb2a86b-212e-4e8e-bc41-e0aec088c157",
   "metadata": {},
   "outputs": [],
   "source": [
    "df.keys()"
   ]
  },
  {
   "cell_type": "code",
   "execution_count": null,
   "id": "fa86eb51-d369-4dc9-8e5d-da0a67a502b9",
   "metadata": {},
   "outputs": [],
   "source": [
    "df.values"
   ]
  },
  {
   "cell_type": "markdown",
   "id": "931fc15f-e6a0-4b1b-8040-e6743a7468a5",
   "metadata": {},
   "source": [
    "### Descriptive properties"
   ]
  },
  {
   "cell_type": "code",
   "execution_count": null,
   "id": "7f503ed7-9c21-44f4-a79a-cd56ec1db8b2",
   "metadata": {},
   "outputs": [],
   "source": [
    "df.info()"
   ]
  },
  {
   "cell_type": "code",
   "execution_count": null,
   "id": "b8f1960a-9ce7-4d24-80c7-dc3827074af3",
   "metadata": {},
   "outputs": [],
   "source": [
    "df.Name[0][:2]"
   ]
  },
  {
   "cell_type": "code",
   "execution_count": null,
   "id": "ae9423da-3395-4495-8410-1d23fa83de39",
   "metadata": {},
   "outputs": [],
   "source": [
    "type(df.Name[1])"
   ]
  },
  {
   "cell_type": "code",
   "execution_count": null,
   "id": "1679663c-d59f-4bd8-8616-e8c86588d5e1",
   "metadata": {},
   "outputs": [],
   "source": [
    "[k[:2] for k in df.Name]"
   ]
  },
  {
   "cell_type": "code",
   "execution_count": null,
   "id": "f1424e5a-6d49-4939-8645-c1a3ab95b398",
   "metadata": {},
   "outputs": [],
   "source": [
    "df.keys()"
   ]
  },
  {
   "cell_type": "code",
   "execution_count": null,
   "id": "7b97d76a-f3ac-4c97-85cc-c6ecf6e4dba8",
   "metadata": {},
   "outputs": [],
   "source": [
    "df.Amount.mean(), df.Amount.max(), df.Amount.std(), df.Amount.cumsum()"
   ]
  },
  {
   "cell_type": "markdown",
   "id": "57065f08-3f4e-49aa-ab75-e126c9e45973",
   "metadata": {},
   "source": [
    "### Statistical descriptors"
   ]
  },
  {
   "cell_type": "code",
   "execution_count": null,
   "id": "d7018826-11c2-491f-b4cd-796c6a145cbc",
   "metadata": {},
   "outputs": [],
   "source": [
    "a = df.Amount.mode()"
   ]
  },
  {
   "cell_type": "code",
   "execution_count": null,
   "id": "2b920e27-3770-46e4-a71d-786c52ba3526",
   "metadata": {},
   "outputs": [],
   "source": [
    "a"
   ]
  },
  {
   "cell_type": "code",
   "execution_count": null,
   "id": "2d63d654-31a5-4832-99ed-c025581e7544",
   "metadata": {},
   "outputs": [],
   "source": [
    "type(a)"
   ]
  },
  {
   "cell_type": "code",
   "execution_count": null,
   "id": "383f9ef0-a67e-49d3-b465-01e17e48d388",
   "metadata": {},
   "outputs": [],
   "source": [
    "a.astype(int)"
   ]
  },
  {
   "cell_type": "code",
   "execution_count": null,
   "id": "6101b585-d302-4826-9652-ea034f00ac90",
   "metadata": {},
   "outputs": [],
   "source": [
    "b = int(a)"
   ]
  },
  {
   "cell_type": "code",
   "execution_count": null,
   "id": "173785c5-5442-473e-b54c-916fa9b33163",
   "metadata": {},
   "outputs": [],
   "source": [
    "b"
   ]
  },
  {
   "cell_type": "code",
   "execution_count": null,
   "id": "48781b8b-d71d-4d94-b1c9-3ebdd8852783",
   "metadata": {},
   "outputs": [],
   "source": [
    "b = int(a.iloc[0])"
   ]
  },
  {
   "cell_type": "code",
   "execution_count": null,
   "id": "5c021025-d8e2-45cf-a8f6-9666b4f52783",
   "metadata": {},
   "outputs": [],
   "source": [
    "b"
   ]
  },
  {
   "cell_type": "code",
   "execution_count": null,
   "id": "abfa58c0-029c-4de6-96b2-59dc262e98cd",
   "metadata": {},
   "outputs": [],
   "source": [
    "df.Amount.nlargest(4)"
   ]
  },
  {
   "cell_type": "code",
   "execution_count": null,
   "id": "eb42f206-06a0-44a2-84c8-65bb90a25443",
   "metadata": {},
   "outputs": [],
   "source": [
    "df.nlargest(4, ['Amount'])"
   ]
  },
  {
   "cell_type": "code",
   "execution_count": null,
   "id": "9d0b2eac-0ada-4afb-9734-f16783bda0ed",
   "metadata": {},
   "outputs": [],
   "source": [
    "df.Amount.quantile(0.9)"
   ]
  },
  {
   "cell_type": "code",
   "execution_count": null,
   "id": "05923d90-efef-473b-8686-3fcc3dd64ca8",
   "metadata": {},
   "outputs": [],
   "source": [
    "df['Amount'].rolling(3).sum()"
   ]
  },
  {
   "cell_type": "markdown",
   "id": "df04c63c-3093-4de5-9fc2-d65baa3bcefc",
   "metadata": {},
   "source": [
    "### Value properties"
   ]
  },
  {
   "cell_type": "code",
   "execution_count": null,
   "id": "986d95b6-974d-4cbe-988d-475cc6900d81",
   "metadata": {},
   "outputs": [],
   "source": [
    "df.Amount.unique()"
   ]
  },
  {
   "cell_type": "code",
   "execution_count": null,
   "id": "5e5aa561-301a-49cf-a02b-70fc06fb0f1a",
   "metadata": {},
   "outputs": [],
   "source": [
    "df.nunique()"
   ]
  },
  {
   "cell_type": "code",
   "execution_count": null,
   "id": "73fca14f-ff27-42ca-818f-4d0f3bc1c599",
   "metadata": {},
   "outputs": [],
   "source": [
    "df.Member.value_counts()"
   ]
  },
  {
   "cell_type": "code",
   "execution_count": null,
   "id": "d93e07ab-53f3-419a-be22-f28c86aef778",
   "metadata": {},
   "outputs": [],
   "source": [
    "df.Amount.where(df.Amount>1000)"
   ]
  },
  {
   "cell_type": "code",
   "execution_count": null,
   "id": "65cb8c45-acff-4136-a6d1-520fd4cc441b",
   "metadata": {},
   "outputs": [],
   "source": [
    "df.Amount.sort_values()"
   ]
  },
  {
   "cell_type": "markdown",
   "id": "aab5771b-9e40-4207-9c06-ea2363e8114f",
   "metadata": {},
   "source": [
    "### apply your own functions"
   ]
  },
  {
   "cell_type": "code",
   "execution_count": null,
   "id": "c09917db-e213-4a16-a714-d49e7f809384",
   "metadata": {},
   "outputs": [],
   "source": [
    "df.Amount.apply(lambda x: x/2)"
   ]
  },
  {
   "cell_type": "code",
   "execution_count": null,
   "id": "f0a804e7-64a8-4e4b-8fd7-440d0d01c521",
   "metadata": {},
   "outputs": [],
   "source": [
    "def func(x):\n",
    "    return x/2"
   ]
  },
  {
   "cell_type": "code",
   "execution_count": null,
   "id": "002eaa1e-687a-42a5-b851-6808d5066e69",
   "metadata": {},
   "outputs": [],
   "source": [
    "df.Amount.apply(func)"
   ]
  },
  {
   "cell_type": "code",
   "execution_count": null,
   "id": "048622a8-8ac8-4eac-a21f-f3a1a2542662",
   "metadata": {},
   "outputs": [],
   "source": [
    "df.Name.apply(func)"
   ]
  },
  {
   "cell_type": "code",
   "execution_count": null,
   "id": "5b3f95ca-5d6b-470f-b81e-41bf76f6ae11",
   "metadata": {},
   "outputs": [],
   "source": [
    "df.Amount.argsort()"
   ]
  },
  {
   "cell_type": "code",
   "execution_count": null,
   "id": "82a3236d-35c5-4791-bb4b-43d72451b782",
   "metadata": {},
   "outputs": [],
   "source": [
    "df.Name.str.upper()"
   ]
  },
  {
   "cell_type": "code",
   "execution_count": 120,
   "id": "e0d086a4-65a7-4db2-981d-e8b1b03f4c4c",
   "metadata": {},
   "outputs": [
    {
     "data": {
      "text/plain": [
       "0   -1\n",
       "1   -1\n",
       "2   -1\n",
       "3   -1\n",
       "4    3\n",
       "5   -1\n",
       "Name: Name, dtype: int64"
      ]
     },
     "execution_count": 120,
     "metadata": {},
     "output_type": "execute_result"
    }
   ],
   "source": [
    "df.Name.str.find('a')"
   ]
  },
  {
   "cell_type": "markdown",
   "id": "a50f13a3-5360-44bb-a6da-dac6bad6ebee",
   "metadata": {},
   "source": [
    "### Plotting"
   ]
  },
  {
   "cell_type": "code",
   "execution_count": null,
   "id": "375fc056-5e0a-4d35-99f5-6c2b9a00d208",
   "metadata": {},
   "outputs": [],
   "source": [
    "df.plot('Name', 'Amount')"
   ]
  },
  {
   "cell_type": "code",
   "execution_count": null,
   "id": "a2fdfba2-0dbb-4874-9326-01e589af5aaf",
   "metadata": {},
   "outputs": [],
   "source": [
    "df.hist('Amount')"
   ]
  },
  {
   "cell_type": "markdown",
   "id": "02c31758-68f5-490e-8416-428b2cd36792",
   "metadata": {},
   "source": [
    "### Groupping"
   ]
  },
  {
   "cell_type": "code",
   "execution_count": null,
   "id": "f954bb6d-cc24-4c89-b653-0ef1fcfed700",
   "metadata": {},
   "outputs": [],
   "source": [
    "df.groupby('Member')['Amount'].mean()"
   ]
  },
  {
   "cell_type": "code",
   "execution_count": null,
   "id": "3c3a6e73-1abc-4331-99d7-e0bde73f4608",
   "metadata": {},
   "outputs": [],
   "source": []
  }
 ],
 "metadata": {
  "kernelspec": {
   "display_name": "pyualg",
   "language": "python",
   "name": "pyualg"
  },
  "language_info": {
   "codemirror_mode": {
    "name": "ipython",
    "version": 3
   },
   "file_extension": ".py",
   "mimetype": "text/x-python",
   "name": "python",
   "nbconvert_exporter": "python",
   "pygments_lexer": "ipython3",
   "version": "3.11.5"
  }
 },
 "nbformat": 4,
 "nbformat_minor": 5
}
