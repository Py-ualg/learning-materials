{
 "cells": [
  {
   "cell_type": "markdown",
   "id": "c52df291-62aa-460d-bdc7-ba62783356b3",
   "metadata": {},
   "source": [
    "# Code snippets 1: 23/11/24\n",
    "* 1.Import of mofules, 2. indexing and slicing, 3. timing"
   ]
  },
  {
   "cell_type": "markdown",
   "id": "366f313a-4bb9-48d3-87a4-c4c21a3e8d03",
   "metadata": {},
   "source": [
    "## Q1: Beginner level\n",
    "### Many similar ways to import a function(s) and modules.\n",
    "* Use dir() to list all methods you have currently available in your so-called namespace"
   ]
  },
  {
   "cell_type": "code",
   "execution_count": 1,
   "id": "cbff3583-1270-48cc-9d96-264c2385be46",
   "metadata": {
    "collapsed": true,
    "jupyter": {
     "outputs_hidden": true
    }
   },
   "outputs": [
    {
     "data": {
      "text/plain": [
       "['ArithmeticError',\n",
       " 'AssertionError',\n",
       " 'AttributeError',\n",
       " 'BaseException',\n",
       " 'BaseExceptionGroup',\n",
       " 'BlockingIOError',\n",
       " 'BrokenPipeError',\n",
       " 'BufferError',\n",
       " 'BytesWarning',\n",
       " 'ChildProcessError',\n",
       " 'ConnectionAbortedError',\n",
       " 'ConnectionError',\n",
       " 'ConnectionRefusedError',\n",
       " 'ConnectionResetError',\n",
       " 'DeprecationWarning',\n",
       " 'EOFError',\n",
       " 'Ellipsis',\n",
       " 'EncodingWarning',\n",
       " 'EnvironmentError',\n",
       " 'Exception',\n",
       " 'ExceptionGroup',\n",
       " 'False',\n",
       " 'FileExistsError',\n",
       " 'FileNotFoundError',\n",
       " 'FloatingPointError',\n",
       " 'FutureWarning',\n",
       " 'GeneratorExit',\n",
       " 'IOError',\n",
       " 'ImportError',\n",
       " 'ImportWarning',\n",
       " 'IndentationError',\n",
       " 'IndexError',\n",
       " 'InterruptedError',\n",
       " 'IsADirectoryError',\n",
       " 'KeyError',\n",
       " 'KeyboardInterrupt',\n",
       " 'LookupError',\n",
       " 'MemoryError',\n",
       " 'ModuleNotFoundError',\n",
       " 'NameError',\n",
       " 'None',\n",
       " 'NotADirectoryError',\n",
       " 'NotImplemented',\n",
       " 'NotImplementedError',\n",
       " 'OSError',\n",
       " 'OverflowError',\n",
       " 'PendingDeprecationWarning',\n",
       " 'PermissionError',\n",
       " 'ProcessLookupError',\n",
       " 'RecursionError',\n",
       " 'ReferenceError',\n",
       " 'ResourceWarning',\n",
       " 'RuntimeError',\n",
       " 'RuntimeWarning',\n",
       " 'StopAsyncIteration',\n",
       " 'StopIteration',\n",
       " 'SyntaxError',\n",
       " 'SyntaxWarning',\n",
       " 'SystemError',\n",
       " 'SystemExit',\n",
       " 'TabError',\n",
       " 'TimeoutError',\n",
       " 'True',\n",
       " 'TypeError',\n",
       " 'UnboundLocalError',\n",
       " 'UnicodeDecodeError',\n",
       " 'UnicodeEncodeError',\n",
       " 'UnicodeError',\n",
       " 'UnicodeTranslateError',\n",
       " 'UnicodeWarning',\n",
       " 'UserWarning',\n",
       " 'ValueError',\n",
       " 'Warning',\n",
       " 'WindowsError',\n",
       " 'ZeroDivisionError',\n",
       " '__IPYTHON__',\n",
       " '__build_class__',\n",
       " '__debug__',\n",
       " '__doc__',\n",
       " '__import__',\n",
       " '__loader__',\n",
       " '__name__',\n",
       " '__package__',\n",
       " '__spec__',\n",
       " 'abs',\n",
       " 'aiter',\n",
       " 'all',\n",
       " 'anext',\n",
       " 'any',\n",
       " 'ascii',\n",
       " 'bin',\n",
       " 'bool',\n",
       " 'breakpoint',\n",
       " 'bytearray',\n",
       " 'bytes',\n",
       " 'callable',\n",
       " 'chr',\n",
       " 'classmethod',\n",
       " 'compile',\n",
       " 'complex',\n",
       " 'copyright',\n",
       " 'credits',\n",
       " 'delattr',\n",
       " 'dict',\n",
       " 'dir',\n",
       " 'display',\n",
       " 'divmod',\n",
       " 'enumerate',\n",
       " 'eval',\n",
       " 'exec',\n",
       " 'execfile',\n",
       " 'filter',\n",
       " 'float',\n",
       " 'format',\n",
       " 'frozenset',\n",
       " 'get_ipython',\n",
       " 'getattr',\n",
       " 'globals',\n",
       " 'hasattr',\n",
       " 'hash',\n",
       " 'help',\n",
       " 'hex',\n",
       " 'id',\n",
       " 'input',\n",
       " 'int',\n",
       " 'isinstance',\n",
       " 'issubclass',\n",
       " 'iter',\n",
       " 'len',\n",
       " 'license',\n",
       " 'list',\n",
       " 'locals',\n",
       " 'map',\n",
       " 'max',\n",
       " 'memoryview',\n",
       " 'min',\n",
       " 'next',\n",
       " 'object',\n",
       " 'oct',\n",
       " 'open',\n",
       " 'ord',\n",
       " 'pow',\n",
       " 'print',\n",
       " 'property',\n",
       " 'range',\n",
       " 'repr',\n",
       " 'reversed',\n",
       " 'round',\n",
       " 'runfile',\n",
       " 'set',\n",
       " 'setattr',\n",
       " 'slice',\n",
       " 'sorted',\n",
       " 'staticmethod',\n",
       " 'str',\n",
       " 'sum',\n",
       " 'super',\n",
       " 'tuple',\n",
       " 'type',\n",
       " 'vars',\n",
       " 'zip']"
      ]
     },
     "execution_count": 1,
     "metadata": {},
     "output_type": "execute_result"
    }
   ],
   "source": [
    "# lists your built-in namespace, which is available on the python start-up\n",
    "dir(__builtins__)"
   ]
  },
  {
   "cell_type": "code",
   "execution_count": 2,
   "id": "2f44e66e-7601-48b7-8963-868128bcba93",
   "metadata": {
    "tags": []
   },
   "outputs": [
    {
     "data": {
      "text/plain": [
       "array([0.23972956, 0.81945319, 0.44074331, 0.30019767, 0.28515725])"
      ]
     },
     "execution_count": 2,
     "metadata": {},
     "output_type": "execute_result"
    }
   ],
   "source": [
    "# imports all methods and submodules from numpy, generally not a good idea\n",
    "from numpy import *\n",
    "\n",
    "# advanced: specifying seed makes your random numbers reproducible (good for testing sometimes)\n",
    "# random.seed(42)\n",
    "random.rand(5)"
   ]
  },
  {
   "cell_type": "code",
   "execution_count": 3,
   "id": "cf28fec9-f30c-4e65-8478-4d946d550a55",
   "metadata": {
    "tags": []
   },
   "outputs": [
    {
     "data": {
      "text/plain": [
       "array([0.88532479, 0.71739011, 0.71557461, 0.64188718, 0.60424882])"
      ]
     },
     "execution_count": 3,
     "metadata": {},
     "output_type": "execute_result"
    }
   ],
   "source": [
    "# imports all methods from numpy.random module\n",
    "from numpy.random import *\n",
    "\n",
    "# seed(42)\n",
    "rand(5)"
   ]
  },
  {
   "cell_type": "code",
   "execution_count": 4,
   "id": "563c55d8-45bf-4654-8dc5-9e4b90dc4613",
   "metadata": {
    "tags": []
   },
   "outputs": [
    {
     "data": {
      "text/plain": [
       "array([0.04648513, 0.52385961, 0.27677908, 0.23075824, 0.87020471])"
      ]
     },
     "execution_count": 4,
     "metadata": {},
     "output_type": "execute_result"
    }
   ],
   "source": [
    "# imports one specific function\n",
    "from numpy.random import rand\n",
    "\n",
    "# seed(42)\n",
    "rand(5)"
   ]
  },
  {
   "cell_type": "code",
   "execution_count": 5,
   "id": "9dd74512-a5f3-45cf-a3f1-d7c58df2ca51",
   "metadata": {
    "tags": []
   },
   "outputs": [
    {
     "data": {
      "text/plain": [
       "array([0.09463212, 0.84088951, 0.0148531 , 0.02652583, 0.2219438 ])"
      ]
     },
     "execution_count": 5,
     "metadata": {},
     "output_type": "execute_result"
    }
   ],
   "source": [
    "# typical way to import numpy, you will then always refer to to numpy by np.\n",
    "# This way you have access to all functions, but the need to refer with full reference, ie np.random.rand(), it is explicit which function you are using\n",
    "import numpy as np\n",
    "\n",
    "np.random.rand(5)"
   ]
  },
  {
   "cell_type": "code",
   "execution_count": 6,
   "id": "7e8d539c-caa4-49b0-b55a-dcc4be9579a0",
   "metadata": {
    "tags": []
   },
   "outputs": [],
   "source": [
    "# dir()"
   ]
  },
  {
   "cell_type": "code",
   "execution_count": 6,
   "id": "4a491f7d-5607-4c7c-96d5-c31d17c966e2",
   "metadata": {
    "collapsed": true,
    "jupyter": {
     "outputs_hidden": true
    },
    "tags": []
   },
   "outputs": [
    {
     "data": {
      "text/plain": [
       "(str, set)"
      ]
     },
     "execution_count": 6,
     "metadata": {},
     "output_type": "execute_result"
    }
   ],
   "source": [
    "# do not redefine your built-in functions\n",
    "# after running this you cannot use print() built-in function\n",
    "# advanced question: can you still access the print anyways? Hint: look at the __builtins__\n",
    "var = 5\n",
    "print = 'hello'\n",
    "list = []\n",
    "str, set"
   ]
  },
  {
   "cell_type": "code",
   "execution_count": 10,
   "id": "246ffb96-ef1c-457b-b920-29bd6f5a0200",
   "metadata": {
    "collapsed": true,
    "jupyter": {
     "outputs_hidden": true
    }
   },
   "outputs": [
    {
     "data": {
      "text/plain": [
       "'hello'"
      ]
     },
     "execution_count": 10,
     "metadata": {},
     "output_type": "execute_result"
    }
   ],
   "source": [
    "print"
   ]
  },
  {
   "cell_type": "code",
   "execution_count": 11,
   "id": "3f1a76c9-b5e4-4751-9aef-5c608b82329d",
   "metadata": {
    "collapsed": true,
    "jupyter": {
     "outputs_hidden": true
    }
   },
   "outputs": [
    {
     "ename": "TypeError",
     "evalue": "'str' object is not callable",
     "output_type": "error",
     "traceback": [
      "\u001b[1;31m---------------------------------------------------------------------------\u001b[0m",
      "\u001b[1;31mTypeError\u001b[0m                                 Traceback (most recent call last)",
      "Cell \u001b[1;32mIn[11], line 1\u001b[0m\n\u001b[1;32m----> 1\u001b[0m \u001b[38;5;28;43mprint\u001b[39;49m\u001b[43m(\u001b[49m\u001b[38;5;124;43m'\u001b[39;49m\u001b[38;5;124;43mhello\u001b[39;49m\u001b[38;5;124;43m'\u001b[39;49m\u001b[43m)\u001b[49m\n",
      "\u001b[1;31mTypeError\u001b[0m: 'str' object is not callable"
     ]
    }
   ],
   "source": [
    "# If something like this happens, restart your jupyter kernel (kernel -> Restart kernel)\n",
    "# that cleans all the imports, and variables\n",
    "# all cells you want to run need to be run again.\n",
    "print('hello')"
   ]
  },
  {
   "cell_type": "code",
   "execution_count": 12,
   "id": "e04e4c41-dfed-410e-82dc-361a37cbc087",
   "metadata": {
    "collapsed": true,
    "jupyter": {
     "outputs_hidden": true
    },
    "tags": []
   },
   "outputs": [
    {
     "name": "stdout",
     "output_type": "stream",
     "text": [
      "\n",
      "Here is a list of the Python keywords.  Enter any keyword to get more help.\n",
      "\n",
      "False               class               from                or\n",
      "None                continue            global              pass\n",
      "True                def                 if                  raise\n",
      "and                 del                 import              return\n",
      "as                  elif                in                  try\n",
      "assert              else                is                  while\n",
      "async               except              lambda              with\n",
      "await               finally             nonlocal            yield\n",
      "break               for                 not                 \n",
      "\n"
     ]
    }
   ],
   "source": [
    "# these are rptected words, you cannot use for variable and function names  \n",
    "help(\"keywords\")"
   ]
  },
  {
   "cell_type": "markdown",
   "id": "0bf105ce-39fc-4361-9717-7bb6c1268e15",
   "metadata": {},
   "source": [
    "## Q2: Intermediate level\n",
    "### Array indexing and slicing"
   ]
  },
  {
   "cell_type": "code",
   "execution_count": 14,
   "id": "ae484d91-6ef9-4559-b2b0-08c6ba652008",
   "metadata": {
    "collapsed": true,
    "jupyter": {
     "outputs_hidden": true
    },
    "tags": []
   },
   "outputs": [],
   "source": [
    "import numpy as np"
   ]
  },
  {
   "cell_type": "code",
   "execution_count": 15,
   "id": "ab5237f8-9851-4554-bf58-92434ab6c3b0",
   "metadata": {
    "collapsed": true,
    "jupyter": {
     "outputs_hidden": true
    }
   },
   "outputs": [
    {
     "data": {
      "text/plain": [
       "array([ 0,  1,  2,  3,  4,  5,  6,  7,  8,  9, 10, 11, 12, 13, 14, 15, 16,\n",
       "       17, 18, 19, 20, 21, 22, 23])"
      ]
     },
     "execution_count": 15,
     "metadata": {},
     "output_type": "execute_result"
    }
   ],
   "source": [
    "# generate range of numbers (in python we count from 0, always)\n",
    "np.arange(24)"
   ]
  },
  {
   "cell_type": "code",
   "execution_count": 16,
   "id": "35a6a027-75a3-458b-9c29-37c1e5c8a0b4",
   "metadata": {
    "collapsed": true,
    "jupyter": {
     "outputs_hidden": true
    }
   },
   "outputs": [],
   "source": [
    "# reshape makes 1D array 2 dimensional\n",
    "arr = np.arange(24).reshape(4, 6)"
   ]
  },
  {
   "cell_type": "code",
   "execution_count": 28,
   "id": "69e2f3ad-cbbd-47ea-9b9c-a92dfc5acb30",
   "metadata": {
    "collapsed": true,
    "jupyter": {
     "outputs_hidden": true
    },
    "tags": []
   },
   "outputs": [
    {
     "data": {
      "text/plain": [
       "((4, 6),\n",
       " array([[ 0,  1,  2,  3,  4,  5],\n",
       "        [ 6,  7,  8,  9, 10, 11],\n",
       "        [12, 13, 14, 15, 16, 17],\n",
       "        [18, 19, 20, 21, 22, 23]]))"
      ]
     },
     "execution_count": 28,
     "metadata": {},
     "output_type": "execute_result"
    }
   ],
   "source": [
    "# the same, but I let python to try to assume the second dimension.\n",
    "# number of elements must match, reshape(5, -1) will not work\n",
    "arr = np.arange(24).reshape(4, -1)\n",
    "arr.shape, arr"
   ]
  },
  {
   "cell_type": "code",
   "execution_count": 30,
   "id": "01458aa4-ec98-4465-ac3b-9c301297ee5d",
   "metadata": {
    "collapsed": true,
    "jupyter": {
     "outputs_hidden": true
    },
    "tags": []
   },
   "outputs": [
    {
     "data": {
      "text/plain": [
       "array([0, 1, 2, 3, 4, 5])"
      ]
     },
     "execution_count": 30,
     "metadata": {},
     "output_type": "execute_result"
    }
   ],
   "source": [
    "arr[0, :]  # or arr[0]"
   ]
  },
  {
   "cell_type": "code",
   "execution_count": 31,
   "id": "cea05019-e98f-404c-a581-2bfd7d524c51",
   "metadata": {
    "collapsed": true,
    "jupyter": {
     "outputs_hidden": true
    },
    "tags": []
   },
   "outputs": [
    {
     "ename": "IndexError",
     "evalue": "index 5 is out of bounds for axis 0 with size 4",
     "output_type": "error",
     "traceback": [
      "\u001b[1;31m---------------------------------------------------------------------------\u001b[0m",
      "\u001b[1;31mIndexError\u001b[0m                                Traceback (most recent call last)",
      "Cell \u001b[1;32mIn[31], line 1\u001b[0m\n\u001b[1;32m----> 1\u001b[0m \u001b[43marr\u001b[49m\u001b[43m[\u001b[49m\u001b[38;5;241;43m5\u001b[39;49m\u001b[43m,\u001b[49m\u001b[43m \u001b[49m\u001b[38;5;241;43m4\u001b[39;49m\u001b[43m]\u001b[49m\n",
      "\u001b[1;31mIndexError\u001b[0m: index 5 is out of bounds for axis 0 with size 4"
     ]
    }
   ],
   "source": [
    "arr[5, 4]"
   ]
  },
  {
   "cell_type": "code",
   "execution_count": 33,
   "id": "c499689d-f543-45d4-b51e-6f9901452be8",
   "metadata": {
    "collapsed": true,
    "jupyter": {
     "outputs_hidden": true
    },
    "tags": []
   },
   "outputs": [
    {
     "data": {
      "text/plain": [
       "array([[15, 16, 17],\n",
       "       [21, 22, 23]])"
      ]
     },
     "execution_count": 33,
     "metadata": {},
     "output_type": "execute_result"
    }
   ],
   "source": [
    "# index -1 refers to the last element\n",
    "# : before the index, takes all the elements until the index (indexed position exluded), ie :3 takes elements 0,1,2, but 3 anymore\n",
    "# : after the index, takes all the elemnets until the end of the array in that dimension. 2: takes elements 2, 3, 4... \n",
    "arr[-2:, -3:]"
   ]
  },
  {
   "cell_type": "code",
   "execution_count": 34,
   "id": "5227361a-b4c0-49ee-85a1-273eeb2f1553",
   "metadata": {
    "collapsed": true,
    "jupyter": {
     "outputs_hidden": true
    }
   },
   "outputs": [
    {
     "data": {
      "text/plain": [
       "array([0, 1, 2, 3, 4, 5])"
      ]
     },
     "execution_count": 34,
     "metadata": {},
     "output_type": "execute_result"
    }
   ],
   "source": [
    "arr[-0]"
   ]
  },
  {
   "cell_type": "code",
   "execution_count": 35,
   "id": "db7c353d-786b-4217-bda8-3aa331623140",
   "metadata": {
    "collapsed": true,
    "jupyter": {
     "outputs_hidden": true
    },
    "tags": []
   },
   "outputs": [
    {
     "data": {
      "text/plain": [
       "array([[ True,  True,  True,  True,  True,  True],\n",
       "       [ True,  True,  True,  True,  True,  True]])"
      ]
     },
     "execution_count": 35,
     "metadata": {},
     "output_type": "execute_result"
    }
   ],
   "source": [
    "arr[0:2] == arr[:2]  # compares all elements one by one, shapes has to match"
   ]
  },
  {
   "cell_type": "code",
   "execution_count": 38,
   "id": "58e093bd-fe5e-437d-b33f-f522634adbf1",
   "metadata": {
    "collapsed": true,
    "jupyter": {
     "outputs_hidden": true
    },
    "tags": []
   },
   "outputs": [
    {
     "data": {
      "text/plain": [
       "True"
      ]
     },
     "execution_count": 38,
     "metadata": {},
     "output_type": "execute_result"
    }
   ],
   "source": [
    "# compares if all elements are equal\n",
    "arr[0:2].all() == arr[:2].all()"
   ]
  },
  {
   "cell_type": "code",
   "execution_count": 39,
   "id": "415e1474-3a46-47fb-b48e-3ee81bb7aaf2",
   "metadata": {
    "collapsed": true,
    "jupyter": {
     "outputs_hidden": true
    }
   },
   "outputs": [
    {
     "data": {
      "text/plain": [
       "array([[ 0,  1,  2,  3,  4,  5],\n",
       "       [ 6,  7,  8,  9, 10, 11],\n",
       "       [12, 13, 14, 15, 16, 17],\n",
       "       [18, 19, 20, 21, 22, 23]])"
      ]
     },
     "execution_count": 39,
     "metadata": {},
     "output_type": "execute_result"
    }
   ],
   "source": [
    "arr"
   ]
  },
  {
   "cell_type": "code",
   "execution_count": 37,
   "id": "f03ac69c-4e48-4add-adc3-d7c774941dc1",
   "metadata": {
    "collapsed": true,
    "jupyter": {
     "outputs_hidden": true
    },
    "tags": []
   },
   "outputs": [
    {
     "data": {
      "text/plain": [
       "array([ 6,  8, 10])"
      ]
     },
     "execution_count": 37,
     "metadata": {},
     "output_type": "execute_result"
    }
   ],
   "source": [
    "# every secon element in the first rom\n",
    "arr[1, ::2]"
   ]
  },
  {
   "cell_type": "code",
   "execution_count": 40,
   "id": "b54338ed-53ef-40a8-af2e-ce37625ae9e0",
   "metadata": {
    "collapsed": true,
    "jupyter": {
     "outputs_hidden": true
    },
    "tags": []
   },
   "outputs": [
    {
     "data": {
      "text/plain": [
       "array([6, 8])"
      ]
     },
     "execution_count": 40,
     "metadata": {},
     "output_type": "execute_result"
    }
   ],
   "source": [
    "arr[1, :4:2]"
   ]
  },
  {
   "cell_type": "markdown",
   "id": "4081172f-fbf0-422d-996c-b00155d0ec8b",
   "metadata": {},
   "source": [
    "## Q3: Advanced level\n",
    "* one module for short snippet code testing is called `timeit`\n",
    "* other module containing many other time related functions is `time`\n",
    "* careful with magic %% commands, %% has to be on the first line of the cell (try putting even comment on the first line, and it breaks)\n",
    "* https://ipython.readthedocs.io/en/stable/interactive/magics.html"
   ]
  },
  {
   "cell_type": "code",
   "execution_count": 5,
   "id": "003667a7-70b1-4074-87c5-2ef204eb2d6c",
   "metadata": {
    "collapsed": true,
    "jupyter": {
     "outputs_hidden": true
    },
    "tags": []
   },
   "outputs": [
    {
     "name": "stdout",
     "output_type": "stream",
     "text": [
      "2.63 µs ± 48.8 ns per loop (mean ± std. dev. of 7 runs, 100,000 loops each)\n"
     ]
    }
   ],
   "source": [
    "%%timeit  # this is specific for jupyter, timing of the cell\n",
    "for i in range(100):\n",
    "    i+i"
   ]
  },
  {
   "cell_type": "code",
   "execution_count": 6,
   "id": "e4cafd0f-49a7-4e9a-b1bc-ef2fbf46e376",
   "metadata": {
    "collapsed": true,
    "jupyter": {
     "outputs_hidden": true
    },
    "tags": []
   },
   "outputs": [
    {
     "name": "stdout",
     "output_type": "stream",
     "text": [
      "3.3 µs ± 31.9 ns per loop (mean ± std. dev. of 7 runs, 100,000 loops each)\n"
     ]
    }
   ],
   "source": [
    "%%timeit\n",
    "for i in range(100):\n",
    "    i*i"
   ]
  },
  {
   "cell_type": "code",
   "execution_count": 3,
   "id": "d74ce5f4-8c05-402f-9ed0-323f08775133",
   "metadata": {
    "collapsed": true,
    "jupyter": {
     "outputs_hidden": true
    },
    "tags": []
   },
   "outputs": [
    {
     "name": "stdout",
     "output_type": "stream",
     "text": [
      "33.5 µs ± 322 ns per loop (mean ± std. dev. of 7 runs, 10,000 loops each)\n"
     ]
    }
   ],
   "source": [
    "%%timeit\n",
    "for i in range(100):\n",
    "    i**i"
   ]
  },
  {
   "cell_type": "code",
   "execution_count": 7,
   "id": "96beb140-0870-4796-aa4f-817f2de1345c",
   "metadata": {
    "tags": []
   },
   "outputs": [],
   "source": [
    "# other way to do it\n",
    "from time import perf_counter"
   ]
  },
  {
   "cell_type": "code",
   "execution_count": 8,
   "id": "ef660de8-9076-408f-9c12-661d286c406c",
   "metadata": {
    "tags": []
   },
   "outputs": [
    {
     "name": "stdout",
     "output_type": "stream",
     "text": [
      "Wall time: 0.0011767999967560172 s\n"
     ]
    }
   ],
   "source": [
    "# this runs just once, no statistics\n",
    "beg = perf_counter()\n",
    "for i in range(100):\n",
    "    i**i\n",
    "end = perf_counter()\n",
    "print(f'Wall time: {end-beg} s')"
   ]
  },
  {
   "cell_type": "code",
   "execution_count": null,
   "id": "f58220cf-36bf-404c-9fe5-08430b19237a",
   "metadata": {
    "collapsed": true,
    "jupyter": {
     "outputs_hidden": true
    }
   },
   "outputs": [],
   "source": []
  }
 ],
 "metadata": {
  "kernelspec": {
   "display_name": "pyualg",
   "language": "python",
   "name": "pyualg"
  },
  "language_info": {
   "codemirror_mode": {
    "name": "ipython",
    "version": 3
   },
   "file_extension": ".py",
   "mimetype": "text/x-python",
   "name": "python",
   "nbconvert_exporter": "python",
   "pygments_lexer": "ipython3",
   "version": "3.11.5"
  }
 },
 "nbformat": 4,
 "nbformat_minor": 5
}
