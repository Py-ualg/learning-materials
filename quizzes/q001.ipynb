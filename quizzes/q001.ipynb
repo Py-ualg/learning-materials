{
 "cells": [
  {
   "cell_type": "markdown",
   "id": "d621e18e-256f-4676-b652-9f42c9bebf34",
   "metadata": {},
   "source": [
    "# Quizz based on the NB from 24/11, which is in classroom/001_....ipynb\n",
    "## Task: Image binning\n",
    "1. Create a 2D array (40x40) filled with random numbers between 0-5.\n",
    "2. Binned array is an array where every 2x2 or 4x4 bins are averaged (use some `mean` function). Result is therefore 20x20 array or 10x10 array, array.\n",
    "3. There are many ways to do it, try to find at least two.\n",
    "4. Measure which of your two methods performs better. Also is faster to bin 2x2 or 4x4? Why do you think so?\n",
    "\n",
    "You can send me your solutions, or sending me your github username or email, I can add you and you can push your NB to quizzes/q001_solutions as q001_name.ipynb, if you know git. Otherwise I show you next time."
   ]
  },
  {
   "cell_type": "code",
   "execution_count": null,
   "id": "ff3e80bb-246b-4020-9a18-3ae22ccb6169",
   "metadata": {},
   "outputs": [],
   "source": []
  }
 ],
 "metadata": {
  "kernelspec": {
   "display_name": "pyualg",
   "language": "python",
   "name": "pyualg"
  },
  "language_info": {
   "codemirror_mode": {
    "name": "ipython",
    "version": 3
   },
   "file_extension": ".py",
   "mimetype": "text/x-python",
   "name": "python",
   "nbconvert_exporter": "python",
   "pygments_lexer": "ipython3",
   "version": "3.11.5"
  }
 },
 "nbformat": 4,
 "nbformat_minor": 5
}
